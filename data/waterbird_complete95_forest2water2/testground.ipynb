{
 "cells": [
  {
   "cell_type": "code",
   "execution_count": 56,
   "metadata": {},
   "outputs": [],
   "source": [
    "from torch.utils.data import Dataset, DataLoader\n",
    "from torchvision import transforms\n",
    "import PIL\n",
    "import torch"
   ]
  },
  {
   "cell_type": "code",
   "execution_count": 4,
   "metadata": {},
   "outputs": [],
   "source": [
    "metadata = pd.read_csv('metadata.csv')"
   ]
  },
  {
   "cell_type": "code",
   "execution_count": 10,
   "metadata": {},
   "outputs": [
    {
     "data": {
      "text/html": [
       "<div>\n",
       "<style scoped>\n",
       "    .dataframe tbody tr th:only-of-type {\n",
       "        vertical-align: middle;\n",
       "    }\n",
       "\n",
       "    .dataframe tbody tr th {\n",
       "        vertical-align: top;\n",
       "    }\n",
       "\n",
       "    .dataframe thead th {\n",
       "        text-align: right;\n",
       "    }\n",
       "</style>\n",
       "<table border=\"1\" class=\"dataframe\">\n",
       "  <thead>\n",
       "    <tr style=\"text-align: right;\">\n",
       "      <th></th>\n",
       "      <th>img_id</th>\n",
       "      <th>img_filename</th>\n",
       "      <th>y</th>\n",
       "      <th>split</th>\n",
       "      <th>place</th>\n",
       "      <th>place_filename</th>\n",
       "    </tr>\n",
       "  </thead>\n",
       "  <tbody>\n",
       "    <tr>\n",
       "      <th>0</th>\n",
       "      <td>1</td>\n",
       "      <td>001.Black_footed_Albatross/Black_Footed_Albatr...</td>\n",
       "      <td>1</td>\n",
       "      <td>2</td>\n",
       "      <td>1</td>\n",
       "      <td>/o/ocean/00002178.jpg</td>\n",
       "    </tr>\n",
       "    <tr>\n",
       "      <th>1</th>\n",
       "      <td>2</td>\n",
       "      <td>001.Black_footed_Albatross/Black_Footed_Albatr...</td>\n",
       "      <td>1</td>\n",
       "      <td>0</td>\n",
       "      <td>1</td>\n",
       "      <td>/l/lake/natural/00000065.jpg</td>\n",
       "    </tr>\n",
       "    <tr>\n",
       "      <th>2</th>\n",
       "      <td>3</td>\n",
       "      <td>001.Black_footed_Albatross/Black_Footed_Albatr...</td>\n",
       "      <td>1</td>\n",
       "      <td>2</td>\n",
       "      <td>0</td>\n",
       "      <td>/b/bamboo_forest/00000131.jpg</td>\n",
       "    </tr>\n",
       "    <tr>\n",
       "      <th>3</th>\n",
       "      <td>4</td>\n",
       "      <td>001.Black_footed_Albatross/Black_Footed_Albatr...</td>\n",
       "      <td>1</td>\n",
       "      <td>0</td>\n",
       "      <td>1</td>\n",
       "      <td>/o/ocean/00001268.jpg</td>\n",
       "    </tr>\n",
       "    <tr>\n",
       "      <th>4</th>\n",
       "      <td>5</td>\n",
       "      <td>001.Black_footed_Albatross/Black_Footed_Albatr...</td>\n",
       "      <td>1</td>\n",
       "      <td>0</td>\n",
       "      <td>1</td>\n",
       "      <td>/o/ocean/00003147.jpg</td>\n",
       "    </tr>\n",
       "    <tr>\n",
       "      <th>5</th>\n",
       "      <td>6</td>\n",
       "      <td>001.Black_footed_Albatross/Black_Footed_Albatr...</td>\n",
       "      <td>1</td>\n",
       "      <td>2</td>\n",
       "      <td>1</td>\n",
       "      <td>/l/lake/natural/00002698.jpg</td>\n",
       "    </tr>\n",
       "    <tr>\n",
       "      <th>6</th>\n",
       "      <td>7</td>\n",
       "      <td>001.Black_footed_Albatross/Black_Footed_Albatr...</td>\n",
       "      <td>1</td>\n",
       "      <td>0</td>\n",
       "      <td>1</td>\n",
       "      <td>/o/ocean/00003917.jpg</td>\n",
       "    </tr>\n",
       "    <tr>\n",
       "      <th>7</th>\n",
       "      <td>8</td>\n",
       "      <td>001.Black_footed_Albatross/Black_Footed_Albatr...</td>\n",
       "      <td>1</td>\n",
       "      <td>1</td>\n",
       "      <td>1</td>\n",
       "      <td>/o/ocean/00001505.jpg</td>\n",
       "    </tr>\n",
       "    <tr>\n",
       "      <th>8</th>\n",
       "      <td>9</td>\n",
       "      <td>001.Black_footed_Albatross/Black_Footed_Albatr...</td>\n",
       "      <td>1</td>\n",
       "      <td>0</td>\n",
       "      <td>1</td>\n",
       "      <td>/l/lake/natural/00000560.jpg</td>\n",
       "    </tr>\n",
       "    <tr>\n",
       "      <th>9</th>\n",
       "      <td>10</td>\n",
       "      <td>001.Black_footed_Albatross/Black_Footed_Albatr...</td>\n",
       "      <td>1</td>\n",
       "      <td>2</td>\n",
       "      <td>1</td>\n",
       "      <td>/o/ocean/00002073.jpg</td>\n",
       "    </tr>\n",
       "  </tbody>\n",
       "</table>\n",
       "</div>"
      ],
      "text/plain": [
       "   img_id                                       img_filename  y  split  place  \\\n",
       "0       1  001.Black_footed_Albatross/Black_Footed_Albatr...  1      2      1   \n",
       "1       2  001.Black_footed_Albatross/Black_Footed_Albatr...  1      0      1   \n",
       "2       3  001.Black_footed_Albatross/Black_Footed_Albatr...  1      2      0   \n",
       "3       4  001.Black_footed_Albatross/Black_Footed_Albatr...  1      0      1   \n",
       "4       5  001.Black_footed_Albatross/Black_Footed_Albatr...  1      0      1   \n",
       "5       6  001.Black_footed_Albatross/Black_Footed_Albatr...  1      2      1   \n",
       "6       7  001.Black_footed_Albatross/Black_Footed_Albatr...  1      0      1   \n",
       "7       8  001.Black_footed_Albatross/Black_Footed_Albatr...  1      1      1   \n",
       "8       9  001.Black_footed_Albatross/Black_Footed_Albatr...  1      0      1   \n",
       "9      10  001.Black_footed_Albatross/Black_Footed_Albatr...  1      2      1   \n",
       "\n",
       "                  place_filename  \n",
       "0          /o/ocean/00002178.jpg  \n",
       "1   /l/lake/natural/00000065.jpg  \n",
       "2  /b/bamboo_forest/00000131.jpg  \n",
       "3          /o/ocean/00001268.jpg  \n",
       "4          /o/ocean/00003147.jpg  \n",
       "5   /l/lake/natural/00002698.jpg  \n",
       "6          /o/ocean/00003917.jpg  \n",
       "7          /o/ocean/00001505.jpg  \n",
       "8   /l/lake/natural/00000560.jpg  \n",
       "9          /o/ocean/00002073.jpg  "
      ]
     },
     "execution_count": 10,
     "metadata": {},
     "output_type": "execute_result"
    }
   ],
   "source": [
    "metadata.head(10)"
   ]
  },
  {
   "cell_type": "code",
   "execution_count": 39,
   "metadata": {},
   "outputs": [
    {
     "data": {
      "text/plain": [
       "4795"
      ]
     },
     "execution_count": 39,
     "metadata": {},
     "output_type": "execute_result"
    }
   ],
   "source": [
    "len(metadata[metadata['split'] == 0])"
   ]
  },
  {
   "cell_type": "code",
   "execution_count": 8,
   "metadata": {},
   "outputs": [
    {
     "data": {
      "text/plain": [
       "2    5794\n",
       "0    4795\n",
       "1    1199\n",
       "Name: split, dtype: int64"
      ]
     },
     "execution_count": 8,
     "metadata": {},
     "output_type": "execute_result"
    }
   ],
   "source": [
    "# split 0 is train, 1 is val, 2 is test\n",
    "metadata['split'].value_counts()"
   ]
  },
  {
   "cell_type": "code",
   "execution_count": 18,
   "metadata": {},
   "outputs": [],
   "source": [
    "import shutil\n",
    "import os\n",
    "\n",
    "# copy files to train, val, test folders\n",
    "for i in range(len(metadata)):\n",
    "    if metadata['split'][i] == 2:\n",
    "        #shutil.copy(metadata['image_id'][i] + '.jpg', 'train/' + metadata['image_id'][i] + '.jpg')\n",
    "        shutil.copy(metadata['img_filename'][i], 'test/' + str(metadata['img_id'][i]) + '.jpg')\n",
    "    "
   ]
  },
  {
   "cell_type": "code",
   "execution_count": 48,
   "metadata": {},
   "outputs": [
    {
     "data": {
      "text/plain": [
       "img_id                                                            6\n",
       "img_filename      001.Black_footed_Albatross/Black_Footed_Albatr...\n",
       "y                                                                 1\n",
       "split                                                             2\n",
       "place                                                             1\n",
       "place_filename                         /l/lake/natural/00002698.jpg\n",
       "Name: 5, dtype: object"
      ]
     },
     "execution_count": 48,
     "metadata": {},
     "output_type": "execute_result"
    }
   ],
   "source": [
    "metadata.iloc[5]"
   ]
  },
  {
   "cell_type": "code",
   "execution_count": 67,
   "metadata": {},
   "outputs": [],
   "source": [
    "# create a custom training dataset class\n",
    "class WaterbirdsDataset(Dataset):\n",
    "    def __init__(self, csv_dir, root_dir = \"./\", mode=\"train\", transform=None):\n",
    "        metadata = pd.read_csv(csv_dir)\n",
    "        if mode == \"test\":\n",
    "            self.metadata = metadata[metadata['split'] == 2]\n",
    "        elif mode == \"val\":\n",
    "            self.metadata = metadata[metadata['split'] == 1]\n",
    "        else:\n",
    "            self.metadata = metadata[metadata['split'] == 0]\n",
    "        \n",
    "        self.root_dir = root_dir\n",
    "        self.transform = transform\n",
    "        \n",
    "    def __len__(self):\n",
    "        return len(self.metadata)\n",
    "    \n",
    "    def __getitem__(self, idx):\n",
    "        img_name = os.path.join(self.root_dir, self.metadata.iloc[idx, 1])\n",
    "        image = PIL.Image.open(img_name)\n",
    "        label = self.metadata.iloc[idx, 2]\n",
    "        if self.transform:\n",
    "            image = self.transform(image)\n",
    "        image = transforms.ToTensor()(image)\n",
    "        image = transforms.CenterCrop(224)(image)\n",
    "        return image, label"
   ]
  },
  {
   "cell_type": "code",
   "execution_count": 70,
   "metadata": {},
   "outputs": [],
   "source": [
    "dset= WaterbirdsDataset(csv_dir = 'metadata.csv', mode = 'val')\n",
    "dset.__len__()\n",
    "dataloader = DataLoader(dset, batch_size=32, shuffle=True)\n",
    "it = iter(dataloader)\n",
    "images, labels = next(it)"
   ]
  },
  {
   "cell_type": "code",
   "execution_count": 71,
   "metadata": {},
   "outputs": [
    {
     "data": {
      "text/plain": [
       "torch.Size([32, 3, 224, 224])"
      ]
     },
     "execution_count": 71,
     "metadata": {},
     "output_type": "execute_result"
    }
   ],
   "source": []
  }
 ],
 "metadata": {
  "kernelspec": {
   "display_name": "Python 3.8.13 ('cnn')",
   "language": "python",
   "name": "python3"
  },
  "language_info": {
   "codemirror_mode": {
    "name": "ipython",
    "version": 3
   },
   "file_extension": ".py",
   "mimetype": "text/x-python",
   "name": "python",
   "nbconvert_exporter": "python",
   "pygments_lexer": "ipython3",
   "version": "3.8.13"
  },
  "orig_nbformat": 4,
  "vscode": {
   "interpreter": {
    "hash": "39a22bf98edc969192160a8b13497b38e8bbb7ecac4e5db2c6ff6760df15bf25"
   }
  }
 },
 "nbformat": 4,
 "nbformat_minor": 2
}
