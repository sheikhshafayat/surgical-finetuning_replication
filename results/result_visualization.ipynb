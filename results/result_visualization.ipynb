{
 "cells": [
  {
   "cell_type": "code",
   "execution_count": 1,
   "metadata": {},
   "outputs": [],
   "source": [
    "import pandas as pd\n",
    "import matplotlib.pyplot as plt\n",
    "import torch"
   ]
  },
  {
   "cell_type": "code",
   "execution_count": 3,
   "metadata": {},
   "outputs": [],
   "source": [
    "# Read the data\n",
    "allParams = pd.read_csv('cifarC_allparam.csv')\n",
    "fcn = pd.read_csv('cifarC_fcn.csv')\n",
    "layer1 = pd.read_csv('cifarC_layer1.csv')\n",
    "layer2 = pd.read_csv('cifarC_layer2.csv')\n",
    "layer3 = pd.read_csv('cifarC_layer3.csv')\n",
    "\n"
   ]
  },
  {
   "cell_type": "code",
   "execution_count": 4,
   "metadata": {},
   "outputs": [],
   "source": [
    "# read data 1000 source\n",
    "allparams = pd.read_csv('cifarC_all_1000.csv')\n",
    "fcn = pd.read_csv('cifarC_fcn1000.csv')\n",
    "layer1 = pd.read_csv('cifarC_layer1_1000.csv')\n",
    "layer2 = pd.read_csv('cifarC_layer2_1000.csv')\n",
    "layer3 = pd.read_csv('cifarC_layer3_1000.csv')"
   ]
  },
  {
   "cell_type": "code",
   "execution_count": 39,
   "metadata": {},
   "outputs": [],
   "source": [
    "# data 3000 source\n",
    "\n",
    "allparams = pd.read_csv('cifarC_fulltune_3000.csv')\n",
    "fcn = pd.read_csv('cifarC_fc3000.csv')\n",
    "layer1 = pd.read_csv('cifarC_layer1_3000.csv')\n",
    "layer2 = pd.read_csv('cifarC_layer2_3000.csv')\n",
    "layer3 = pd.read_csv('cifarC_layer3_3000.csv')"
   ]
  },
  {
   "cell_type": "code",
   "execution_count": 40,
   "metadata": {},
   "outputs": [
    {
     "name": "stdout",
     "output_type": "stream",
     "text": [
      "Unnamed: 0       0.000000\n",
      "accuracy         0.757026\n",
      "lr               0.001000\n",
      "n_subset      3000.000000\n",
      "dtype: float64\n",
      "##########\n",
      "Unnamed: 0    0.000000e+00\n",
      "accuracy      5.556814e-02\n",
      "lr            2.227824e-19\n",
      "n_subset      0.000000e+00\n",
      "dtype: float64\n"
     ]
    },
    {
     "name": "stderr",
     "output_type": "stream",
     "text": [
      "/var/folders/gs/67slvm8s7jv2_w7564m36mlw0000gn/T/ipykernel_83360/4037281988.py:2: FutureWarning: The default value of numeric_only in DataFrame.mean is deprecated. In a future version, it will default to False. In addition, specifying 'numeric_only=None' is deprecated. Select only valid columns or specify the value of numeric_only to silence this warning.\n",
      "  print(acc.mean())\n",
      "/var/folders/gs/67slvm8s7jv2_w7564m36mlw0000gn/T/ipykernel_83360/4037281988.py:4: FutureWarning: The default value of numeric_only in DataFrame.std is deprecated. In a future version, it will default to False. In addition, specifying 'numeric_only=None' is deprecated. Select only valid columns or specify the value of numeric_only to silence this warning.\n",
      "  print(acc.std())\n"
     ]
    }
   ],
   "source": [
    "acc = layer2.groupby('corruption').max()\n",
    "print(acc.mean())\n",
    "print(\"##########\")\n",
    "print(acc.std())\n"
   ]
  },
  {
   "cell_type": "code",
   "execution_count": null,
   "metadata": {},
   "outputs": [],
   "source": [
    "## CIFAR C\n",
    "\n",
    "# n_subset = 1000\n",
    "\n",
    "# all parameter accuracy: 0.7823\n",
    "# fcn accuracy: 0.613368\n",
    "# layer1 accuracy: 0.77023\n",
    "# label2 accuracy: 0.72244\n",
    "# layer3 accuracy: 0.7067\n",
    "\n",
    "# n_subset = 2000 \n",
    "\n",
    "# all parameter accuracy: 0.802079\n",
    "# fcn accuracy: 0.618132\n",
    "# layer1 accuracy: 0.798368\n",
    "# layer2 accuracy: 0.741158\n",
    "# layer3 accuracy: 0.721079\n",
    "\n",
    "# n_subset = 3000\n",
    "\n",
    "# all params accuracy: 0.7943\n",
    "# fcn accuracy: 0.6216\n",
    "# layer1 accuracy: 0.8024\n",
    "# layer2 accuracy: 75.7\n",
    "# layer3 accuracy: 0.7298"
   ]
  },
  {
   "cell_type": "code",
   "execution_count": 4,
   "metadata": {},
   "outputs": [],
   "source": [
    "# read waterbirds files\n",
    "allparams = pd.read_csv('waterbirdtuneall.csv')\n",
    "fcn = pd.read_csv('waterbirdtune_fc.csv')\n",
    "layer1 = pd.read_csv('waterbirdtunelayer1.csv')\n",
    "layer2 = pd.read_csv('waterbirdtune_layer2.csv')\n",
    "layer3 = pd.read_csv('waterbirdtune_layer3.csv')\n",
    "layer4 = pd.read_csv('waterbirdtune_layer4.csv')"
   ]
  },
  {
   "cell_type": "code",
   "execution_count": 10,
   "metadata": {},
   "outputs": [
    {
     "data": {
      "text/html": [
       "<div>\n",
       "<style scoped>\n",
       "    .dataframe tbody tr th:only-of-type {\n",
       "        vertical-align: middle;\n",
       "    }\n",
       "\n",
       "    .dataframe tbody tr th {\n",
       "        vertical-align: top;\n",
       "    }\n",
       "\n",
       "    .dataframe thead th {\n",
       "        text-align: right;\n",
       "    }\n",
       "</style>\n",
       "<table border=\"1\" class=\"dataframe\">\n",
       "  <thead>\n",
       "    <tr style=\"text-align: right;\">\n",
       "      <th></th>\n",
       "      <th>Unnamed: 0</th>\n",
       "      <th>accuracy</th>\n",
       "      <th>lr</th>\n",
       "      <th>state</th>\n",
       "      <th>n_subset</th>\n",
       "    </tr>\n",
       "  </thead>\n",
       "  <tbody>\n",
       "    <tr>\n",
       "      <th>0</th>\n",
       "      <td>0</td>\n",
       "      <td>0.941176</td>\n",
       "      <td>0.0050</td>\n",
       "      <td>layer4</td>\n",
       "      <td>400</td>\n",
       "    </tr>\n",
       "    <tr>\n",
       "      <th>1</th>\n",
       "      <td>0</td>\n",
       "      <td>0.938673</td>\n",
       "      <td>0.0010</td>\n",
       "      <td>layer4</td>\n",
       "      <td>400</td>\n",
       "    </tr>\n",
       "    <tr>\n",
       "      <th>2</th>\n",
       "      <td>0</td>\n",
       "      <td>0.937422</td>\n",
       "      <td>0.0005</td>\n",
       "      <td>layer4</td>\n",
       "      <td>400</td>\n",
       "    </tr>\n",
       "  </tbody>\n",
       "</table>\n",
       "</div>"
      ],
      "text/plain": [
       "   Unnamed: 0  accuracy      lr   state  n_subset\n",
       "0           0  0.941176  0.0050  layer4       400\n",
       "1           0  0.938673  0.0010  layer4       400\n",
       "2           0  0.937422  0.0005  layer4       400"
      ]
     },
     "execution_count": 10,
     "metadata": {},
     "output_type": "execute_result"
    }
   ],
   "source": [
    "layer4.head()"
   ]
  },
  {
   "cell_type": "code",
   "execution_count": null,
   "metadata": {},
   "outputs": [],
   "source": [
<<<<<<< HEAD
    "## Waterbirds Results\n",
=======
    "# waterbirds results\n",
>>>>>>> 2f8d34d6901588298b42ef24ade24f5c0ce83d03
    "\n",
    "# allparam 0.879\n",
    "# fcn 0.937\n",
    "# layer1 0.916\n",
    "# layer2 0.914\n",
    "# layer3 0.904\n",
    "# layer4 0.9411\n",
    "\n"
   ]
  },
  {
   "cell_type": "code",
<<<<<<< HEAD
   "execution_count": 21,
   "metadata": {},
   "outputs": [],
   "source": [
    "# read imagenetC data\n",
    "allcsv = pd.read_csv('imageNetC_allLayers.csv')\n",
    "\n",
    "fc = pd.read_csv('imageNetC_fclayer.csv')\n",
    "layer1 = allcsv[0:15]\n",
    "layer2 = allcsv[15:30]\n",
    "layer3 = allcsv[30:45]\n",
    "layer4 = allcsv[45:60]\n",
    "fclayer = allcsv[60:75]\n",
    "allparams = allcsv[75:90]"
=======
   "execution_count": 2,
   "metadata": {},
   "outputs": [],
   "source": [
    "# read imagenetC\n",
    "\n",
    "alllayer = pd.read_csv('imageNetC_allLayers.csv')\n",
    "layer1 = pd.read_csv('imageNetC_layer1.csv')\n",
    "layer2 = pd.read_csv('imageNetC_layer2.csv')\n",
    "layer3 = pd.read_csv('imageNetC_layer3.csv')\n",
    "layer4 = pd.read_csv('imageNetC_layer4.csv')\n",
    "fc = pd.read_csv('imageNetC_fclayer.csv')"
>>>>>>> 2f8d34d6901588298b42ef24ade24f5c0ce83d03
   ]
  },
  {
   "cell_type": "code",
<<<<<<< HEAD
   "execution_count": null,
   "metadata": {},
   "outputs": [],
   "source": [
    "# Imagenet C\n",
    "\n",
    "# layer1 0.407 +- 0.12\n",
    "# layer2 0.418 +- 0.12\n",
    "# layer3 0.3997 +- 0.14\n",
    "# layer 4 0.3251 +- 0.15\n",
    "# fc 0.29 +- 0.16\n",
    "# all 0.3968 +- 0.13"
=======
   "execution_count": 3,
   "metadata": {},
   "outputs": [
    {
     "data": {
      "text/html": [
       "<div>\n",
       "<style scoped>\n",
       "    .dataframe tbody tr th:only-of-type {\n",
       "        vertical-align: middle;\n",
       "    }\n",
       "\n",
       "    .dataframe tbody tr th {\n",
       "        vertical-align: top;\n",
       "    }\n",
       "\n",
       "    .dataframe thead th {\n",
       "        text-align: right;\n",
       "    }\n",
       "</style>\n",
       "<table border=\"1\" class=\"dataframe\">\n",
       "  <thead>\n",
       "    <tr style=\"text-align: right;\">\n",
       "      <th></th>\n",
       "      <th>Unnamed: 0</th>\n",
       "      <th>corruption</th>\n",
       "      <th>accuracy</th>\n",
       "      <th>lr</th>\n",
       "      <th>state</th>\n",
       "      <th>n_subset</th>\n",
       "    </tr>\n",
       "  </thead>\n",
       "  <tbody>\n",
       "    <tr>\n",
       "      <th>0</th>\n",
       "      <td>0</td>\n",
       "      <td>frost</td>\n",
       "      <td>0.5030</td>\n",
       "      <td>0.00100</td>\n",
       "      <td>first layer</td>\n",
       "      <td>2000</td>\n",
       "    </tr>\n",
       "    <tr>\n",
       "      <th>1</th>\n",
       "      <td>0</td>\n",
       "      <td>frost</td>\n",
       "      <td>0.5185</td>\n",
       "      <td>0.00010</td>\n",
       "      <td>first layer</td>\n",
       "      <td>2000</td>\n",
       "    </tr>\n",
       "    <tr>\n",
       "      <th>2</th>\n",
       "      <td>0</td>\n",
       "      <td>frost</td>\n",
       "      <td>0.4695</td>\n",
       "      <td>0.00001</td>\n",
       "      <td>first layer</td>\n",
       "      <td>2000</td>\n",
       "    </tr>\n",
       "    <tr>\n",
       "      <th>3</th>\n",
       "      <td>0</td>\n",
       "      <td>gaussian_noise</td>\n",
       "      <td>0.3135</td>\n",
       "      <td>0.00100</td>\n",
       "      <td>first layer</td>\n",
       "      <td>2000</td>\n",
       "    </tr>\n",
       "    <tr>\n",
       "      <th>4</th>\n",
       "      <td>0</td>\n",
       "      <td>gaussian_noise</td>\n",
       "      <td>0.2385</td>\n",
       "      <td>0.00010</td>\n",
       "      <td>first layer</td>\n",
       "      <td>2000</td>\n",
       "    </tr>\n",
       "  </tbody>\n",
       "</table>\n",
       "</div>"
      ],
      "text/plain": [
       "   Unnamed: 0      corruption  accuracy       lr        state  n_subset\n",
       "0           0           frost    0.5030  0.00100  first layer      2000\n",
       "1           0           frost    0.5185  0.00010  first layer      2000\n",
       "2           0           frost    0.4695  0.00001  first layer      2000\n",
       "3           0  gaussian_noise    0.3135  0.00100  first layer      2000\n",
       "4           0  gaussian_noise    0.2385  0.00010  first layer      2000"
      ]
     },
     "execution_count": 3,
     "metadata": {},
     "output_type": "execute_result"
    }
   ],
   "source": [
    "# imagenetC results\n",
    "# layer1 0.407 +- 0.12\n",
    "# layer2 0.419 +- 0.12\n",
    "# layer3 0.42 +- 0.12\n",
    "# layer4 0.42 +- 0.12\n",
    "# fcn 0.42 +- 0.12\n",
    "# alllayer 0.42 +- 0.12"
>>>>>>> 2f8d34d6901588298b42ef24ade24f5c0ce83d03
   ]
  },
  {
   "cell_type": "code",
<<<<<<< HEAD
   "execution_count": 31,
=======
   "execution_count": 17,
   "metadata": {},
   "outputs": [
    {
     "data": {
      "text/html": [
       "<div>\n",
       "<style scoped>\n",
       "    .dataframe tbody tr th:only-of-type {\n",
       "        vertical-align: middle;\n",
       "    }\n",
       "\n",
       "    .dataframe tbody tr th {\n",
       "        vertical-align: top;\n",
       "    }\n",
       "\n",
       "    .dataframe thead th {\n",
       "        text-align: right;\n",
       "    }\n",
       "</style>\n",
       "<table border=\"1\" class=\"dataframe\">\n",
       "  <thead>\n",
       "    <tr style=\"text-align: right;\">\n",
       "      <th></th>\n",
       "      <th>Unnamed: 0</th>\n",
       "      <th>corruption</th>\n",
       "      <th>accuracy</th>\n",
       "      <th>lr</th>\n",
       "      <th>state</th>\n",
       "      <th>n_subset</th>\n",
       "    </tr>\n",
       "  </thead>\n",
       "  <tbody>\n",
       "    <tr>\n",
       "      <th>0</th>\n",
       "      <td>0</td>\n",
       "      <td>frost</td>\n",
       "      <td>0.5030</td>\n",
       "      <td>0.00100</td>\n",
       "      <td>first layer</td>\n",
       "      <td>2000</td>\n",
       "    </tr>\n",
       "    <tr>\n",
       "      <th>1</th>\n",
       "      <td>0</td>\n",
       "      <td>frost</td>\n",
       "      <td>0.5185</td>\n",
       "      <td>0.00010</td>\n",
       "      <td>first layer</td>\n",
       "      <td>2000</td>\n",
       "    </tr>\n",
       "    <tr>\n",
       "      <th>2</th>\n",
       "      <td>0</td>\n",
       "      <td>frost</td>\n",
       "      <td>0.4695</td>\n",
       "      <td>0.00001</td>\n",
       "      <td>first layer</td>\n",
       "      <td>2000</td>\n",
       "    </tr>\n",
       "    <tr>\n",
       "      <th>3</th>\n",
       "      <td>0</td>\n",
       "      <td>gaussian_noise</td>\n",
       "      <td>0.3135</td>\n",
       "      <td>0.00100</td>\n",
       "      <td>first layer</td>\n",
       "      <td>2000</td>\n",
       "    </tr>\n",
       "    <tr>\n",
       "      <th>4</th>\n",
       "      <td>0</td>\n",
       "      <td>gaussian_noise</td>\n",
       "      <td>0.2385</td>\n",
       "      <td>0.00010</td>\n",
       "      <td>first layer</td>\n",
       "      <td>2000</td>\n",
       "    </tr>\n",
       "    <tr>\n",
       "      <th>5</th>\n",
       "      <td>0</td>\n",
       "      <td>gaussian_noise</td>\n",
       "      <td>0.1770</td>\n",
       "      <td>0.00001</td>\n",
       "      <td>first layer</td>\n",
       "      <td>2000</td>\n",
       "    </tr>\n",
       "    <tr>\n",
       "      <th>6</th>\n",
       "      <td>0</td>\n",
       "      <td>glass_blur</td>\n",
       "      <td>0.3415</td>\n",
       "      <td>0.00100</td>\n",
       "      <td>first layer</td>\n",
       "      <td>2000</td>\n",
       "    </tr>\n",
       "    <tr>\n",
       "      <th>7</th>\n",
       "      <td>0</td>\n",
       "      <td>glass_blur</td>\n",
       "      <td>0.2800</td>\n",
       "      <td>0.00010</td>\n",
       "      <td>first layer</td>\n",
       "      <td>2000</td>\n",
       "    </tr>\n",
       "    <tr>\n",
       "      <th>8</th>\n",
       "      <td>0</td>\n",
       "      <td>glass_blur</td>\n",
       "      <td>0.2040</td>\n",
       "      <td>0.00001</td>\n",
       "      <td>first layer</td>\n",
       "      <td>2000</td>\n",
       "    </tr>\n",
       "    <tr>\n",
       "      <th>9</th>\n",
       "      <td>0</td>\n",
       "      <td>impulse_noise</td>\n",
       "      <td>0.2990</td>\n",
       "      <td>0.00100</td>\n",
       "      <td>first layer</td>\n",
       "      <td>2000</td>\n",
       "    </tr>\n",
       "    <tr>\n",
       "      <th>10</th>\n",
       "      <td>0</td>\n",
       "      <td>impulse_noise</td>\n",
       "      <td>0.2365</td>\n",
       "      <td>0.00010</td>\n",
       "      <td>first layer</td>\n",
       "      <td>2000</td>\n",
       "    </tr>\n",
       "    <tr>\n",
       "      <th>11</th>\n",
       "      <td>0</td>\n",
       "      <td>impulse_noise</td>\n",
       "      <td>0.1660</td>\n",
       "      <td>0.00001</td>\n",
       "      <td>first layer</td>\n",
       "      <td>2000</td>\n",
       "    </tr>\n",
       "    <tr>\n",
       "      <th>12</th>\n",
       "      <td>0</td>\n",
       "      <td>snow</td>\n",
       "      <td>0.5660</td>\n",
       "      <td>0.00100</td>\n",
       "      <td>first layer</td>\n",
       "      <td>2000</td>\n",
       "    </tr>\n",
       "    <tr>\n",
       "      <th>13</th>\n",
       "      <td>0</td>\n",
       "      <td>snow</td>\n",
       "      <td>0.5625</td>\n",
       "      <td>0.00010</td>\n",
       "      <td>first layer</td>\n",
       "      <td>2000</td>\n",
       "    </tr>\n",
       "    <tr>\n",
       "      <th>14</th>\n",
       "      <td>0</td>\n",
       "      <td>snow</td>\n",
       "      <td>0.4965</td>\n",
       "      <td>0.00001</td>\n",
       "      <td>first layer</td>\n",
       "      <td>2000</td>\n",
       "    </tr>\n",
       "  </tbody>\n",
       "</table>\n",
       "</div>"
      ],
      "text/plain": [
       "    Unnamed: 0      corruption  accuracy       lr        state  n_subset\n",
       "0            0           frost    0.5030  0.00100  first layer      2000\n",
       "1            0           frost    0.5185  0.00010  first layer      2000\n",
       "2            0           frost    0.4695  0.00001  first layer      2000\n",
       "3            0  gaussian_noise    0.3135  0.00100  first layer      2000\n",
       "4            0  gaussian_noise    0.2385  0.00010  first layer      2000\n",
       "5            0  gaussian_noise    0.1770  0.00001  first layer      2000\n",
       "6            0      glass_blur    0.3415  0.00100  first layer      2000\n",
       "7            0      glass_blur    0.2800  0.00010  first layer      2000\n",
       "8            0      glass_blur    0.2040  0.00001  first layer      2000\n",
       "9            0   impulse_noise    0.2990  0.00100  first layer      2000\n",
       "10           0   impulse_noise    0.2365  0.00010  first layer      2000\n",
       "11           0   impulse_noise    0.1660  0.00001  first layer      2000\n",
       "12           0            snow    0.5660  0.00100  first layer      2000\n",
       "13           0            snow    0.5625  0.00010  first layer      2000\n",
       "14           0            snow    0.4965  0.00001  first layer      2000"
      ]
     },
     "execution_count": 17,
     "metadata": {},
     "output_type": "execute_result"
    }
   ],
   "source": [
    "layer1"
   ]
  },
  {
   "cell_type": "code",
   "execution_count": 14,
>>>>>>> 2f8d34d6901588298b42ef24ade24f5c0ce83d03
   "metadata": {},
   "outputs": [
    {
     "name": "stdout",
     "output_type": "stream",
     "text": [
      "Unnamed: 0       0.0000\n",
<<<<<<< HEAD
      "accuracy         0.3968\n",
=======
      "accuracy         0.4206\n",
>>>>>>> 2f8d34d6901588298b42ef24ade24f5c0ce83d03
      "lr               0.0010\n",
      "n_subset      2000.0000\n",
      "dtype: float64\n",
      "##########\n",
      "Unnamed: 0    0.000000\n",
<<<<<<< HEAD
      "accuracy      0.132882\n",
=======
      "accuracy      0.124857\n",
>>>>>>> 2f8d34d6901588298b42ef24ade24f5c0ce83d03
      "lr            0.000000\n",
      "n_subset      0.000000\n",
      "dtype: float64\n"
     ]
    },
    {
     "name": "stderr",
     "output_type": "stream",
     "text": [
<<<<<<< HEAD
      "/var/folders/gs/67slvm8s7jv2_w7564m36mlw0000gn/T/ipykernel_83360/707008965.py:2: FutureWarning: The default value of numeric_only in DataFrame.mean is deprecated. In a future version, it will default to False. In addition, specifying 'numeric_only=None' is deprecated. Select only valid columns or specify the value of numeric_only to silence this warning.\n",
      "  print(acc.mean())\n",
      "/var/folders/gs/67slvm8s7jv2_w7564m36mlw0000gn/T/ipykernel_83360/707008965.py:4: FutureWarning: The default value of numeric_only in DataFrame.std is deprecated. In a future version, it will default to False. In addition, specifying 'numeric_only=None' is deprecated. Select only valid columns or specify the value of numeric_only to silence this warning.\n",
=======
      "/var/folders/j1/4lz7xm154pjbk8ddd_dk09b80000gn/T/ipykernel_68594/2908501893.py:2: FutureWarning: The default value of numeric_only in DataFrame.mean is deprecated. In a future version, it will default to False. In addition, specifying 'numeric_only=None' is deprecated. Select only valid columns or specify the value of numeric_only to silence this warning.\n",
      "  print(acc.mean())\n",
      "/var/folders/j1/4lz7xm154pjbk8ddd_dk09b80000gn/T/ipykernel_68594/2908501893.py:4: FutureWarning: The default value of numeric_only in DataFrame.std is deprecated. In a future version, it will default to False. In addition, specifying 'numeric_only=None' is deprecated. Select only valid columns or specify the value of numeric_only to silence this warning.\n",
>>>>>>> 2f8d34d6901588298b42ef24ade24f5c0ce83d03
      "  print(acc.std())\n"
     ]
    }
   ],
   "source": [
<<<<<<< HEAD
    "acc = allparams.groupby('corruption').max()\n",
=======
    "acc = alllayer.groupby('corruption').max()\n",
>>>>>>> 2f8d34d6901588298b42ef24ade24f5c0ce83d03
    "print(acc.mean())\n",
    "print(\"##########\")\n",
    "print(acc.std())"
   ]
  }
 ],
 "metadata": {
  "kernelspec": {
   "display_name": "Python 3.8.15 ('pytorch_m1')",
   "language": "python",
   "name": "python3"
  },
  "language_info": {
   "codemirror_mode": {
    "name": "ipython",
    "version": 3
   },
   "file_extension": ".py",
   "mimetype": "text/x-python",
   "name": "python",
   "nbconvert_exporter": "python",
   "pygments_lexer": "ipython3",
   "version": "3.8.15"
  },
  "orig_nbformat": 4,
  "vscode": {
   "interpreter": {
<<<<<<< HEAD
    "hash": "39a22bf98edc969192160a8b13497b38e8bbb7ecac4e5db2c6ff6760df15bf25"
=======
    "hash": "be375b19548401d9264c26e1cb16ccfdbed2c1020c05f692b19335077b4aa958"
>>>>>>> 2f8d34d6901588298b42ef24ade24f5c0ce83d03
   }
  }
 },
 "nbformat": 4,
 "nbformat_minor": 2
}
