{
 "cells": [
  {
   "cell_type": "code",
   "execution_count": 1,
   "metadata": {},
   "outputs": [],
   "source": [
    "import pandas as pd\n",
    "import matplotlib.pyplot as plt\n",
    "import torch"
   ]
  },
  {
   "cell_type": "code",
   "execution_count": 3,
   "metadata": {},
   "outputs": [],
   "source": [
    "# Read the data\n",
    "allParams = pd.read_csv('cifarC_allparam.csv')\n",
    "fcn = pd.read_csv('cifarC_fcn.csv')\n",
    "layer1 = pd.read_csv('cifarC_layer1.csv')\n",
    "layer2 = pd.read_csv('cifarC_layer2.csv')\n",
    "layer3 = pd.read_csv('cifarC_layer3.csv')\n",
    "\n"
   ]
  },
  {
   "cell_type": "code",
   "execution_count": 4,
   "metadata": {},
   "outputs": [],
   "source": [
    "# read data 1000 source\n",
    "allparams = pd.read_csv('cifarC_all_1000.csv')\n",
    "fcn = pd.read_csv('cifarC_fcn1000.csv')\n",
    "layer1 = pd.read_csv('cifarC_layer1_1000.csv')\n",
    "layer2 = pd.read_csv('cifarC_layer2_1000.csv')\n",
    "layer3 = pd.read_csv('cifarC_layer3_1000.csv')"
   ]
  },
  {
   "cell_type": "code",
   "execution_count": 2,
   "metadata": {},
   "outputs": [],
   "source": [
    "# data 3000 source\n",
    "\n",
    "allparams = pd.read_csv('cifarC_fulltune_3000.csv')\n",
    "fcn = pd.read_csv('cifarC_fc3000.csv')\n",
    "layer1 = pd.read_csv('cifarC_layer1_3000.csv')\n",
    "layer3 = pd.read_csv('cifarC_layer3_3000.csv')"
   ]
  },
  {
   "cell_type": "code",
   "execution_count": 3,
   "metadata": {},
   "outputs": [
    {
     "name": "stdout",
     "output_type": "stream",
     "text": [
      "Unnamed: 0       0.000000\n",
      "accuracy         0.729868\n",
      "lr               0.001000\n",
      "n_subset      3000.000000\n",
      "dtype: float64\n",
      "##########\n",
      "Unnamed: 0    0.000000e+00\n",
      "accuracy      6.129524e-02\n",
      "lr            4.455647e-19\n",
      "n_subset      0.000000e+00\n",
      "dtype: float64\n"
     ]
    },
    {
     "name": "stderr",
     "output_type": "stream",
     "text": [
      "/tmp/ipykernel_15672/1095014468.py:2: FutureWarning: Dropping of nuisance columns in DataFrame reductions (with 'numeric_only=None') is deprecated; in a future version this will raise TypeError.  Select only valid columns before calling the reduction.\n",
      "  print(acc.mean())\n",
      "/tmp/ipykernel_15672/1095014468.py:4: FutureWarning: Dropping of nuisance columns in DataFrame reductions (with 'numeric_only=None') is deprecated; in a future version this will raise TypeError.  Select only valid columns before calling the reduction.\n",
      "  print(acc.std())\n"
     ]
    }
   ],
   "source": [
    "acc = layer3.groupby('corruption').max()\n",
    "print(acc.mean())\n",
    "print(\"##########\")\n",
    "print(acc.std())\n"
   ]
  },
  {
   "cell_type": "code",
   "execution_count": null,
   "metadata": {},
   "outputs": [],
   "source": [
    "# n_subset = 2000 \n",
    "\n",
    "# all parameter accuracy: 0.802079\n",
    "# fcn accuracy: 0.618132\n",
    "# layer1 accuracy: 0.798368\n",
    "# layer2 accuracy: 0.741158\n",
    "# layer3 accuracy: 0.721079\n",
    "\n",
    "# n_subset = 1000\n",
    "\n",
    "# all parameter accuracy: 0.7823\n",
    "# layer1 accuracy: 0.77023\n",
    "# label2 accuracy: 0.72244\n",
    "# layer3 accuracy: 0.7067\n",
    "# fcn accuracy: 0.613368"
   ]
  },
  {
   "cell_type": "code",
   "execution_count": 73,
   "metadata": {},
   "outputs": [
    {
     "name": "stdout",
     "output_type": "stream",
     "text": [
      "Wed Nov 30 19:42:42 2022       \n",
      "+-----------------------------------------------------------------------------+\n",
      "| NVIDIA-SMI 460.27.04    Driver Version: 460.27.04    CUDA Version: 11.2     |\n",
      "|-------------------------------+----------------------+----------------------+\n",
      "| GPU  Name        Persistence-M| Bus-Id        Disp.A | Volatile Uncorr. ECC |\n",
      "| Fan  Temp  Perf  Pwr:Usage/Cap|         Memory-Usage | GPU-Util  Compute M. |\n",
      "|                               |                      |               MIG M. |\n",
      "|===============================+======================+======================|\n",
      "|   0  Tesla P40           Off  | 00000000:1B:00.0 Off |                    0 |\n",
      "| N/A   62C    P0   192W / 250W |  18611MiB / 22919MiB |    100%      Default |\n",
      "|                               |                      |                  N/A |\n",
      "+-------------------------------+----------------------+----------------------+\n",
      "|   1  Tesla P40           Off  | 00000000:1C:00.0 Off |                    0 |\n",
      "| N/A   53C    P0   151W / 250W |   8709MiB / 22919MiB |    100%      Default |\n",
      "|                               |                      |                  N/A |\n",
      "+-------------------------------+----------------------+----------------------+\n",
      "|   2  Tesla P40           Off  | 00000000:1D:00.0 Off |                    0 |\n",
      "| N/A   62C    P0   190W / 250W |   4951MiB / 22919MiB |     87%      Default |\n",
      "|                               |                      |                  N/A |\n",
      "+-------------------------------+----------------------+----------------------+\n",
      "|   3  Tesla P40           Off  | 00000000:1E:00.0 Off |                    0 |\n",
      "| N/A   64C    P0    62W / 250W |  18113MiB / 22919MiB |      0%      Default |\n",
      "|                               |                      |                  N/A |\n",
      "+-------------------------------+----------------------+----------------------+\n",
      "|   4  Tesla P40           Off  | 00000000:3D:00.0 Off |                    0 |\n",
      "| N/A   22C    P8     9W / 250W |      2MiB / 22919MiB |      0%      Default |\n",
      "|                               |                      |                  N/A |\n",
      "+-------------------------------+----------------------+----------------------+\n",
      "|   5  Tesla P40           Off  | 00000000:3F:00.0 Off |                    0 |\n",
      "| N/A   21C    P8     9W / 250W |      2MiB / 22919MiB |      0%      Default |\n",
      "|                               |                      |                  N/A |\n",
      "+-------------------------------+----------------------+----------------------+\n",
      "|   6  Tesla P40           Off  | 00000000:40:00.0 Off |                    0 |\n",
      "| N/A   25C    P8     9W / 250W |      2MiB / 22919MiB |      0%      Default |\n",
      "|                               |                      |                  N/A |\n",
      "+-------------------------------+----------------------+----------------------+\n",
      "|   7  Tesla P40           Off  | 00000000:41:00.0 Off |                    0 |\n",
      "| N/A   63C    P0   156W / 250W |  17126MiB / 22919MiB |    100%      Default |\n",
      "|                               |                      |                  N/A |\n",
      "+-------------------------------+----------------------+----------------------+\n",
      "                                                                               \n",
      "+-----------------------------------------------------------------------------+\n",
      "| Processes:                                                                  |\n",
      "|  GPU   GI   CI        PID   Type   Process name                  GPU Memory |\n",
      "|        ID   ID                                                   Usage      |\n",
      "|=============================================================================|\n",
      "|    0   N/A  N/A      1602      C   python                            515MiB |\n",
      "|    0   N/A  N/A      2691      C   python                            515MiB |\n",
      "|    0   N/A  N/A      2863      C   python                          15407MiB |\n",
      "|    0   N/A  N/A      3613      C   python                            515MiB |\n",
      "|    0   N/A  N/A      5191      C   python                            513MiB |\n",
      "|    0   N/A  N/A     23482      C   ...onda3/envs/cnn/bin/python      627MiB |\n",
      "|    0   N/A  N/A     39958      C   ...onda3/envs/cnn/bin/python      515MiB |\n",
      "|    1   N/A  N/A      1602      C   python                            939MiB |\n",
      "|    1   N/A  N/A      2691      C   python                            941MiB |\n",
      "|    1   N/A  N/A      3613      C   python                            939MiB |\n",
      "|    1   N/A  N/A      5191      C   python                            939MiB |\n",
      "|    1   N/A  N/A     35924      C   python                           4949MiB |\n",
      "|    2   N/A  N/A     39714      C   python                           4949MiB |\n",
      "|    3   N/A  N/A     30557      C   python                          18111MiB |\n",
      "|    7   N/A  N/A     29422      C   python                          16183MiB |\n",
      "|    7   N/A  N/A     39958      C   ...onda3/envs/cnn/bin/python      941MiB |\n",
      "+-----------------------------------------------------------------------------+\n"
     ]
    }
   ],
   "source": [
    "!nvidia-smi"
   ]
  }
 ],
 "metadata": {
  "kernelspec": {
   "display_name": "Python 3.8.13 ('cnn')",
   "language": "python",
   "name": "python3"
  },
  "language_info": {
   "codemirror_mode": {
    "name": "ipython",
    "version": 3
   },
   "file_extension": ".py",
   "mimetype": "text/x-python",
   "name": "python",
   "nbconvert_exporter": "python",
   "pygments_lexer": "ipython3",
   "version": "3.8.13"
  },
  "orig_nbformat": 4,
  "vscode": {
   "interpreter": {
    "hash": "87e013697ceb0204f352832f4ec6e6f1c77694055778794fe9f28677ca3921b9"
   }
  }
 },
 "nbformat": 4,
 "nbformat_minor": 2
}
