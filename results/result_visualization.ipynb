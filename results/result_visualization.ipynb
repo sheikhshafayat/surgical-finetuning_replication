{
 "cells": [
  {
   "cell_type": "code",
   "execution_count": 2,
   "metadata": {},
   "outputs": [],
   "source": [
    "import pandas as pd\n",
    "import matplotlib.pyplot as plt\n",
    "import torch"
   ]
  },
  {
   "cell_type": "code",
   "execution_count": 3,
   "metadata": {},
   "outputs": [],
   "source": [
    "# Read the data\n",
    "allParams = pd.read_csv('cifarC_allparam.csv')\n",
    "fcn = pd.read_csv('cifarC_fcn.csv')\n",
    "layer1 = pd.read_csv('cifarC_layer1.csv')\n",
    "layer2 = pd.read_csv('cifarC_layer2.csv')\n",
    "layer3 = pd.read_csv('cifarC_layer3.csv')\n",
    "\n"
   ]
  },
  {
   "cell_type": "code",
   "execution_count": 4,
   "metadata": {},
   "outputs": [],
   "source": [
    "# read data 1000 source\n",
    "allparams = pd.read_csv('cifarC_all_1000.csv')\n",
    "fcn = pd.read_csv('cifarC_fcn1000.csv')\n",
    "layer1 = pd.read_csv('cifarC_layer1_1000.csv')\n",
    "layer2 = pd.read_csv('cifarC_layer2_1000.csv')\n",
    "layer3 = pd.read_csv('cifarC_layer3_1000.csv')"
   ]
  },
  {
   "cell_type": "code",
   "execution_count": 2,
   "metadata": {},
   "outputs": [],
   "source": [
    "# data 3000 source\n",
    "\n",
    "allparams = pd.read_csv('cifarC_fulltune_3000.csv')\n",
    "fcn = pd.read_csv('cifarC_fc3000.csv')\n",
    "layer1 = pd.read_csv('cifarC_layer1_3000.csv')\n",
    "layer3 = pd.read_csv('cifarC_layer3_3000.csv')"
   ]
  },
  {
   "cell_type": "code",
   "execution_count": 3,
   "metadata": {},
   "outputs": [
    {
     "name": "stdout",
     "output_type": "stream",
     "text": [
      "Unnamed: 0       0.000000\n",
      "accuracy         0.729868\n",
      "lr               0.001000\n",
      "n_subset      3000.000000\n",
      "dtype: float64\n",
      "##########\n",
      "Unnamed: 0    0.000000e+00\n",
      "accuracy      6.129524e-02\n",
      "lr            4.455647e-19\n",
      "n_subset      0.000000e+00\n",
      "dtype: float64\n"
     ]
    },
    {
     "name": "stderr",
     "output_type": "stream",
     "text": [
      "/tmp/ipykernel_15672/1095014468.py:2: FutureWarning: Dropping of nuisance columns in DataFrame reductions (with 'numeric_only=None') is deprecated; in a future version this will raise TypeError.  Select only valid columns before calling the reduction.\n",
      "  print(acc.mean())\n",
      "/tmp/ipykernel_15672/1095014468.py:4: FutureWarning: Dropping of nuisance columns in DataFrame reductions (with 'numeric_only=None') is deprecated; in a future version this will raise TypeError.  Select only valid columns before calling the reduction.\n",
      "  print(acc.std())\n"
     ]
    }
   ],
   "source": [
    "acc = layer3.groupby('corruption').max()\n",
    "print(acc.mean())\n",
    "print(\"##########\")\n",
    "print(acc.std())\n"
   ]
  },
  {
   "cell_type": "code",
   "execution_count": null,
   "metadata": {},
   "outputs": [],
   "source": [
    "# n_subset = 2000 \n",
    "\n",
    "# all parameter accuracy: 0.802079\n",
    "# fcn accuracy: 0.618132\n",
    "# layer1 accuracy: 0.798368\n",
    "# layer2 accuracy: 0.741158\n",
    "# layer3 accuracy: 0.721079\n",
    "\n",
    "# n_subset = 1000\n",
    "\n",
    "# all parameter accuracy: 0.7823\n",
    "# layer1 accuracy: 0.77023\n",
    "# label2 accuracy: 0.72244\n",
    "# layer3 accuracy: 0.7067\n",
    "# fcn accuracy: 0.613368"
   ]
  },
  {
   "cell_type": "code",
   "execution_count": 4,
   "metadata": {},
   "outputs": [],
   "source": [
    "# read waterbirds files\n",
    "allparams = pd.read_csv('waterbirdtuneall.csv')\n",
    "fcn = pd.read_csv('waterbirdtune_fc.csv')\n",
    "layer1 = pd.read_csv('waterbirdtunelayer1.csv')\n",
    "layer2 = pd.read_csv('waterbirdtune_layer2.csv')\n",
    "layer3 = pd.read_csv('waterbirdtune_layer3.csv')\n",
    "layer4 = pd.read_csv('waterbirdtune_layer4.csv')"
   ]
  },
  {
   "cell_type": "code",
   "execution_count": 10,
   "metadata": {},
   "outputs": [
    {
     "data": {
      "text/html": [
       "<div>\n",
       "<style scoped>\n",
       "    .dataframe tbody tr th:only-of-type {\n",
       "        vertical-align: middle;\n",
       "    }\n",
       "\n",
       "    .dataframe tbody tr th {\n",
       "        vertical-align: top;\n",
       "    }\n",
       "\n",
       "    .dataframe thead th {\n",
       "        text-align: right;\n",
       "    }\n",
       "</style>\n",
       "<table border=\"1\" class=\"dataframe\">\n",
       "  <thead>\n",
       "    <tr style=\"text-align: right;\">\n",
       "      <th></th>\n",
       "      <th>Unnamed: 0</th>\n",
       "      <th>accuracy</th>\n",
       "      <th>lr</th>\n",
       "      <th>state</th>\n",
       "      <th>n_subset</th>\n",
       "    </tr>\n",
       "  </thead>\n",
       "  <tbody>\n",
       "    <tr>\n",
       "      <th>0</th>\n",
       "      <td>0</td>\n",
       "      <td>0.941176</td>\n",
       "      <td>0.0050</td>\n",
       "      <td>layer4</td>\n",
       "      <td>400</td>\n",
       "    </tr>\n",
       "    <tr>\n",
       "      <th>1</th>\n",
       "      <td>0</td>\n",
       "      <td>0.938673</td>\n",
       "      <td>0.0010</td>\n",
       "      <td>layer4</td>\n",
       "      <td>400</td>\n",
       "    </tr>\n",
       "    <tr>\n",
       "      <th>2</th>\n",
       "      <td>0</td>\n",
       "      <td>0.937422</td>\n",
       "      <td>0.0005</td>\n",
       "      <td>layer4</td>\n",
       "      <td>400</td>\n",
       "    </tr>\n",
       "  </tbody>\n",
       "</table>\n",
       "</div>"
      ],
      "text/plain": [
       "   Unnamed: 0  accuracy      lr   state  n_subset\n",
       "0           0  0.941176  0.0050  layer4       400\n",
       "1           0  0.938673  0.0010  layer4       400\n",
       "2           0  0.937422  0.0005  layer4       400"
      ]
     },
     "execution_count": 10,
     "metadata": {},
     "output_type": "execute_result"
    }
   ],
   "source": [
    "layer4.head()"
   ]
  },
  {
   "cell_type": "code",
   "execution_count": null,
   "metadata": {},
   "outputs": [],
   "source": [
    "# allparam 0.879\n",
    "# fcn 0.937\n",
    "# layer1 0.916\n",
    "# layer2 0.914\n",
    "# layer3 0.904\n",
    "# layer4 0.9411\n",
    "\n"
   ]
  }
 ],
 "metadata": {
  "kernelspec": {
   "display_name": "Python 3.8.13 ('cnn')",
   "language": "python",
   "name": "python3"
  },
  "language_info": {
   "codemirror_mode": {
    "name": "ipython",
    "version": 3
   },
   "file_extension": ".py",
   "mimetype": "text/x-python",
   "name": "python",
   "nbconvert_exporter": "python",
   "pygments_lexer": "ipython3",
   "version": "3.8.13"
  },
  "orig_nbformat": 4,
  "vscode": {
   "interpreter": {
    "hash": "87e013697ceb0204f352832f4ec6e6f1c77694055778794fe9f28677ca3921b9"
   }
  }
 },
 "nbformat": 4,
 "nbformat_minor": 2
}
