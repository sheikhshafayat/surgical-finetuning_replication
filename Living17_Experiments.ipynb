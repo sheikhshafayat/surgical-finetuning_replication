{
 "cells": [
  {
   "cell_type": "code",
   "execution_count": null,
   "metadata": {},
   "outputs": [],
   "source": [
    "from collections import OrderedDict\n",
    "from robustness import datasets\n",
    "from robustness.tools.breeds_helpers import make_living17\n",
    "import numpy as np\n",
    "import torch\n",
    "import torch.nn as nn\n",
    "import torch.nn.functional as F\n",
    "import torch.optim as optim\n",
    "from torch.utils.data import DataLoader, Dataset\n",
    "from torch.utils.data import sampler\n",
    "import os\n",
    "import torchvision.datasets as dset\n",
    "import torchvision.transforms as T\n",
    "import pandas as pd\n",
    "# for plotting\n",
    "import matplotlib.pyplot as plt\n",
    "%matplotlib inline\n",
    "plt.rcParams['figure.figsize'] = (10.0, 8.0) # set default size of plots\n",
    "plt.rcParams['image.interpolation'] = 'nearest'\n",
    "plt.rcParams['image.cmap'] = 'gray'\n",
    "\n",
    "from trainer_functions.cifartrainer import evaluate_cifar, train_cifar, build_cifar10\n",
    "from models.ResNet import ResNetCifar as ResNet\n",
    "from trainer_functions.cifarCloader import CIFARCDataset\n",
    "from trainer_functions.imagenetc import ImageNetC\n",
    "from trainer_functions.imagenetctrainer import build_resnet50, evaluate_imagenetc, train_imagenetc"
   ]
  },
  {
   "cell_type": "code",
   "execution_count": null,
   "metadata": {},
   "outputs": [],
   "source": [
    "# empty dataframe\n",
    "df = pd.DataFrame(columns=['accuracy', \"lr\", \"state\", \"n_subset\"])\n",
    "\n",
    "data_dir = '/Users/rada/.mxnet/datasets/imagenet'\n",
    "info_dir = '/Users/rada/Documents/GitHub/BREEDS-Benchmarks/imagenet_class_hierarchy/modified'\n",
    "\n",
    "n_subset = 850\n",
    "lrs = [0.0005, 1e-4, 1e-5]"
   ]
  },
  {
   "cell_type": "code",
   "execution_count": null,
   "metadata": {},
   "outputs": [],
   "source": [
    "for lr in lrs:\n",
    "    \n",
    "    ret = make_living17(info_dir, split=\"rand\")\n",
    "    superclasses, subclass_split, label_map = ret\n",
    "    train_subclasses, test_subclasses = subclass_split\n",
    "\n",
    "    dataset_target = datasets.CustomImageNet(data_dir, test_subclasses)\n",
    "\n",
    "    indices = torch.randperm(len(dataset_target))\n",
    "\n",
    "    l17train_target = torch.utils.data.Subset(dataset_target, indices[:n_subset])\n",
    "    l17valid_target = torch.utils.data.Subset(dataset_target, indices[n_subset:n_subset+2000])\n",
    "    l17test_target = torch.utils.data.Subset(dataset_target, indices[n_subset+2000:n_subset+4000])\n",
    "\n",
    "    l17trainload_target = DataLoader(l17train_target, batch_size=64, shuffle=True)\n",
    "    l17validload_target = DataLoader(l17valid_target, batch_size=64, shuffle=True)\n",
    "    l17testload_target = DataLoader(l17test_target, batch_size=64, shuffle=True)\n",
    "\n",
    "    device = torch.device(\"mps\")\n",
    "    tune_net = build_resnet50(device)\n",
    "\n",
    "    # tune_net.layer1 to tune the first layer, tune_net to tune all layers, tune_net.fc to tune the last year\n",
    "    # add linear probing here\n",
    "    optimizer = optim.Adam(tune_net.fc.parameters(), lr=lr)\n",
    "\n",
    "    scheduler = optim.lr_scheduler.StepLR(optimizer, step_size=20, gamma=0.1)\n",
    "\n",
    "    # checkpoint = torch.load('checkpoints/ckpt-2.pth')\n",
    "    # tune_net.load_state_dict(checkpoint['net'])\n",
    "\n",
    "    acc = train_imagenetc(tune_net, ictrainload, icvalidload, optimizer, scheduler, device=device, epochs=10)\n",
    "\n",
    "    # adding results to dataframe\n",
    "    dict = {}\n",
    "    dict['accuracy'] = acc\n",
    "    dict['lr'] = lr\n",
    "    dict['state'] = \"first layer\"  # change when run\n",
    "    dict['n_subset'] = n_subset\n",
    "    df_temp = pd.DataFrame(dict, index=[0])\n",
    "    df = pd.concat([df, df_temp])\n",
    "\n",
    "# change when run\n",
    "df.to_csv(\"imageNetC_layer1.csv\")\n"
   ]
  }
 ],
 "metadata": {
  "kernelspec": {
   "display_name": "Python 3.8.15 ('pytorch_m1')",
   "language": "python",
   "name": "python3"
  },
  "language_info": {
   "name": "python",
   "version": "3.8.15"
  },
  "orig_nbformat": 4,
  "vscode": {
   "interpreter": {
    "hash": "be375b19548401d9264c26e1cb16ccfdbed2c1020c05f692b19335077b4aa958"
   }
  }
 },
 "nbformat": 4,
 "nbformat_minor": 2
}
