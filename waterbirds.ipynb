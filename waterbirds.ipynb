{
 "cells": [
  {
   "cell_type": "code",
   "execution_count": 17,
   "metadata": {},
   "outputs": [
    {
     "data": {
      "text/html": [
       "Finishing last run (ID:3b84k44f) before initializing another..."
      ],
      "text/plain": [
       "<IPython.core.display.HTML object>"
      ]
     },
     "metadata": {},
     "output_type": "display_data"
    },
    {
     "data": {
      "text/html": [
       "Waiting for W&B process to finish... <strong style=\"color:green\">(success).</strong>"
      ],
      "text/plain": [
       "<IPython.core.display.HTML object>"
      ]
     },
     "metadata": {},
     "output_type": "display_data"
    },
    {
     "data": {
      "application/vnd.jupyter.widget-view+json": {
       "model_id": "9161646d85d44fde95d22887af35e186",
       "version_major": 2,
       "version_minor": 0
      },
      "text/plain": [
       "VBox(children=(Label(value='0.001 MB of 0.001 MB uploaded (0.000 MB deduped)\\r'), FloatProgress(value=1.0, max…"
      ]
     },
     "metadata": {},
     "output_type": "display_data"
    },
    {
     "data": {
      "text/html": [
       "<style>\n",
       "    table.wandb td:nth-child(1) { padding: 0 10px; text-align: left ; width: auto;} td:nth-child(2) {text-align: left ; width: 100%}\n",
       "    .wandb-row { display: flex; flex-direction: row; flex-wrap: wrap; justify-content: flex-start; width: 100% }\n",
       "    .wandb-col { display: flex; flex-direction: column; flex-basis: 100%; flex: 1; padding: 10px; }\n",
       "    </style>\n",
       "<div class=\"wandb-row\"><div class=\"wandb-col\"><h3>Run history:</h3><br/><table class=\"wandb\"><tr><td>accuracy</td><td>▇▁▁▇▂▇▇▇▇▇▇▇▇▇▁▂▇▇▅▃▇▇▇█▅▇▇▇▃▆▇█▇▇▇▇▇▇▇█</td></tr><tr><td>loss</td><td>█▅▆▆▄▅▅▆▅▅▅▆▅▆▅▄▃▂▂▅▂▂▂▁▂▂▂▄▂▂▁▁▂▂▂▁▁▁▁▁</td></tr></table><br/></div><div class=\"wandb-col\"><h3>Run summary:</h3><br/><table class=\"wandb\"><tr><td>accuracy</td><td>0.85232</td></tr><tr><td>loss</td><td>0.02572</td></tr></table><br/></div></div>"
      ],
      "text/plain": [
       "<IPython.core.display.HTML object>"
      ]
     },
     "metadata": {},
     "output_type": "display_data"
    },
    {
     "data": {
      "text/html": [
       "Synced <strong style=\"color:#cdcd00\">tuneall</strong>: <a href=\"https://wandb.ai/sshafayat/Surgical_Test/runs/3b84k44f\" target=\"_blank\">https://wandb.ai/sshafayat/Surgical_Test/runs/3b84k44f</a><br/>Synced 6 W&B file(s), 0 media file(s), 0 artifact file(s) and 0 other file(s)"
      ],
      "text/plain": [
       "<IPython.core.display.HTML object>"
      ]
     },
     "metadata": {},
     "output_type": "display_data"
    },
    {
     "data": {
      "text/html": [
       "Find logs at: <code>./wandb/run-20221203_210207-3b84k44f/logs</code>"
      ],
      "text/plain": [
       "<IPython.core.display.HTML object>"
      ]
     },
     "metadata": {},
     "output_type": "display_data"
    },
    {
     "data": {
      "text/html": [
       "Successfully finished last run (ID:3b84k44f). Initializing new run:<br/>"
      ],
      "text/plain": [
       "<IPython.core.display.HTML object>"
      ]
     },
     "metadata": {},
     "output_type": "display_data"
    },
    {
     "data": {
      "application/vnd.jupyter.widget-view+json": {
       "model_id": "50d07f6a20d2493db508062045a2d6ba",
       "version_major": 2,
       "version_minor": 0
      },
      "text/plain": [
       "VBox(children=(Label(value='Waiting for wandb.init()...\\r'), FloatProgress(value=0.016671085031703115, max=1.0…"
      ]
     },
     "metadata": {},
     "output_type": "display_data"
    },
    {
     "data": {
      "text/html": [
       "wandb version 0.13.5 is available!  To upgrade, please run:\n",
       " $ pip install wandb --upgrade"
      ],
      "text/plain": [
       "<IPython.core.display.HTML object>"
      ]
     },
     "metadata": {},
     "output_type": "display_data"
    },
    {
     "data": {
      "text/html": [
       "Tracking run with wandb version 0.13.4"
      ],
      "text/plain": [
       "<IPython.core.display.HTML object>"
      ]
     },
     "metadata": {},
     "output_type": "display_data"
    },
    {
     "data": {
      "text/html": [
       "Run data is saved locally in <code>/data02/vi_stain/sheikh/Personal/surgical-finetuning_replication/wandb/run-20221203_211638-yrmehmx2</code>"
      ],
      "text/plain": [
       "<IPython.core.display.HTML object>"
      ]
     },
     "metadata": {},
     "output_type": "display_data"
    },
    {
     "data": {
      "text/html": [
       "Syncing run <strong><a href=\"https://wandb.ai/sshafayat/Surgical_Test/runs/yrmehmx2\" target=\"_blank\">tuneall</a></strong> to <a href=\"https://wandb.ai/sshafayat/Surgical_Test\" target=\"_blank\">Weights & Biases</a> (<a href=\"https://wandb.me/run\" target=\"_blank\">docs</a>)<br/>"
      ],
      "text/plain": [
       "<IPython.core.display.HTML object>"
      ]
     },
     "metadata": {},
     "output_type": "display_data"
    }
   ],
   "source": [
    "import torch\n",
    "import torch.nn as nn\n",
    "from trainer_functions.waterbirdsloader import WaterbirdsDataset\n",
    "from trainer_functions.waterbirdstrainer import evaluate_waterbirds, train_waterbirds\n",
    "from torchvision import transforms, models\n",
    "from torch.utils.data import Dataset, DataLoader\n",
    "import pandas as pd\n",
    "import wandb\n",
    "wandb.init(project=\"Surgical_Test\", name=\"tuneall\")\n",
    "\n",
    "device = torch.device(\"cuda:1\" if torch.cuda.is_available() else \"cpu\")"
   ]
  },
  {
   "cell_type": "code",
   "execution_count": 18,
   "metadata": {},
   "outputs": [],
   "source": [
    "wb_train = WaterbirdsDataset(csv_dir = \"data/waterbird_complete95_forest2water2/metadata.csv\", mode = \"train\", root_dir=\"data/waterbird_complete95_forest2water2\")\n",
    "wb_target = WaterbirdsDataset(csv_dir = \"data/waterbird_complete95_forest2water2/metadata.csv\", mode = \"val\", root_dir=\"data/waterbird_complete95_forest2water2\")\n",
    "wbtarget_test = WaterbirdsDataset(csv_dir = \"data/waterbird_complete95_forest2water2/metadata.csv\", mode = \"test\", root_dir=\"data/waterbird_complete95_forest2water2\")"
   ]
  },
  {
   "cell_type": "code",
   "execution_count": 19,
   "metadata": {},
   "outputs": [],
   "source": [
    "# split wbtrain dataset into train and validation\n",
    "train_size = int(0.8 * len(wb_train))\n",
    "val_size = len(wb_train) - train_size\n",
    "train_dataset, val_dataset = torch.utils.data.random_split(wb_train, [train_size, val_size])\n",
    "\n",
    "# take 400 images from wb_target\n",
    "target_size = 400\n",
    "target_dataset, target_val = torch.utils.data.random_split(wb_target, [target_size, len(wb_target) - target_size])\n"
   ]
  },
  {
   "cell_type": "code",
   "execution_count": 20,
   "metadata": {},
   "outputs": [
    {
     "name": "stdout",
     "output_type": "stream",
     "text": [
      "Train size:  3836\n",
      "Val size:  959\n",
      "Target size:  400\n",
      "Target val size:  799\n",
      "Target test size:  5794\n"
     ]
    }
   ],
   "source": [
    "print(\"Train size: \", len(train_dataset))\n",
    "print(\"Val size: \", len(val_dataset))\n",
    "print(\"Target size: \", len(target_dataset))\n",
    "print(\"Target val size: \", len(target_val))\n",
    "print(\"Target test size: \", len(wbtarget_test))"
   ]
  },
  {
   "cell_type": "code",
   "execution_count": 21,
   "metadata": {},
   "outputs": [],
   "source": [
    "# source loader\n",
    "wb_trainloader = DataLoader(train_dataset, batch_size=64, shuffle=True)\n",
    "wb_valloader = DataLoader(val_dataset, batch_size=64, shuffle=True)\n",
    "\n",
    "# target loader\n",
    "wb_targetloader = DataLoader(target_dataset, batch_size=64, shuffle=True)\n",
    "wb_target_valloader = DataLoader(target_val, batch_size=64, shuffle=True)\n",
    "\n",
    "target_testloader = DataLoader(wbtarget_test, batch_size=64, shuffle=True)"
   ]
  },
  {
   "cell_type": "code",
   "execution_count": 22,
   "metadata": {},
   "outputs": [
    {
     "name": "stderr",
     "output_type": "stream",
     "text": [
      "/home/sheikh/miniconda3/envs/cnn/lib/python3.8/site-packages/torchvision/models/_utils.py:208: UserWarning: The parameter 'pretrained' is deprecated since 0.13 and will be removed in 0.15, please use 'weights' instead.\n",
      "  warnings.warn(\n",
      "/home/sheikh/miniconda3/envs/cnn/lib/python3.8/site-packages/torchvision/models/_utils.py:223: UserWarning: Arguments other than a weight enum or `None` for 'weights' are deprecated since 0.13 and will be removed in 0.15. The current behavior is equivalent to passing `weights=ResNet50_Weights.IMAGENET1K_V1`. You can also use `weights=ResNet50_Weights.DEFAULT` to get the most up-to-date weights.\n",
      "  warnings.warn(msg)\n"
     ]
    }
   ],
   "source": [
    "# get a pretrained model trained on IMAGENET\n",
    "model = models.resnet50(pretrained=True)\n",
    "model.fc = nn.Linear(2048, 2) # change the last layer to 2 classes"
   ]
  },
  {
   "cell_type": "code",
   "execution_count": 23,
   "metadata": {},
   "outputs": [],
   "source": [
    "# load pretrained model_40 from model_states\n",
    "df = pd.DataFrame(columns=[\"accuracy\", \"lr\", \"state\", \"n_subset\"])\n",
    "lrs = [0.005, 0.001, 0.0005]\n"
   ]
  },
  {
   "cell_type": "code",
   "execution_count": 24,
   "metadata": {},
   "outputs": [
    {
     "name": "stderr",
     "output_type": "stream",
     "text": [
      "/home/sheikh/miniconda3/envs/cnn/lib/python3.8/site-packages/torchvision/models/_utils.py:208: UserWarning: The parameter 'pretrained' is deprecated since 0.13 and will be removed in 0.15, please use 'weights' instead.\n",
      "  warnings.warn(\n",
      "/home/sheikh/miniconda3/envs/cnn/lib/python3.8/site-packages/torchvision/models/_utils.py:223: UserWarning: Arguments other than a weight enum or `None` for 'weights' are deprecated since 0.13 and will be removed in 0.15. The current behavior is equivalent to passing `weights=ResNet50_Weights.IMAGENET1K_V1`. You can also use `weights=ResNet50_Weights.DEFAULT` to get the most up-to-date weights.\n",
      "  warnings.warn(msg)\n"
     ]
    },
    {
     "name": "stdout",
     "output_type": "stream",
     "text": [
      "Epoch 0, loss = 0.3124\n",
      "Got 625 / 799 correct (78.22)\n",
      "\n",
      "Epoch 1, loss = 0.6658\n",
      "Got 174 / 799 correct (21.78)\n",
      "\n",
      "Epoch 2, loss = 0.6507\n",
      "Got 625 / 799 correct (78.22)\n",
      "\n",
      "Epoch 3, loss = 0.3073\n",
      "Got 625 / 799 correct (78.22)\n",
      "\n",
      "Epoch 4, loss = 0.3891\n",
      "Got 619 / 799 correct (77.47)\n",
      "\n",
      "Epoch 5, loss = 0.4582\n",
      "Got 625 / 799 correct (78.22)\n",
      "\n",
      "Epoch 6, loss = 0.6189\n",
      "Got 625 / 799 correct (78.22)\n",
      "\n",
      "Epoch 7, loss = 0.4065\n",
      "Got 625 / 799 correct (78.22)\n",
      "\n",
      "Epoch 8, loss = 1.0552\n",
      "Got 625 / 799 correct (78.22)\n",
      "\n",
      "Epoch 9, loss = 0.4649\n",
      "Got 625 / 799 correct (78.22)\n",
      "\n",
      "Epoch 10, loss = 0.8148\n",
      "Got 625 / 799 correct (78.22)\n",
      "\n",
      "Epoch 11, loss = 0.4006\n",
      "Got 507 / 799 correct (63.45)\n",
      "\n",
      "Epoch 12, loss = 0.7285\n",
      "Got 618 / 799 correct (77.35)\n",
      "\n",
      "Epoch 13, loss = 0.4320\n",
      "Got 625 / 799 correct (78.22)\n",
      "\n",
      "Epoch 14, loss = 0.3565\n",
      "Got 625 / 799 correct (78.22)\n",
      "\n"
     ]
    },
    {
     "name": "stderr",
     "output_type": "stream",
     "text": [
      "/home/sheikh/miniconda3/envs/cnn/lib/python3.8/site-packages/torchvision/models/_utils.py:208: UserWarning: The parameter 'pretrained' is deprecated since 0.13 and will be removed in 0.15, please use 'weights' instead.\n",
      "  warnings.warn(\n",
      "/home/sheikh/miniconda3/envs/cnn/lib/python3.8/site-packages/torchvision/models/_utils.py:223: UserWarning: Arguments other than a weight enum or `None` for 'weights' are deprecated since 0.13 and will be removed in 0.15. The current behavior is equivalent to passing `weights=ResNet50_Weights.IMAGENET1K_V1`. You can also use `weights=ResNet50_Weights.DEFAULT` to get the most up-to-date weights.\n",
      "  warnings.warn(msg)\n"
     ]
    },
    {
     "name": "stdout",
     "output_type": "stream",
     "text": [
      "Epoch 0, loss = 0.3586\n",
      "Got 563 / 799 correct (70.46)\n",
      "\n",
      "Epoch 1, loss = 0.3543\n",
      "Got 174 / 799 correct (21.78)\n",
      "\n",
      "Epoch 2, loss = 0.5942\n",
      "Got 268 / 799 correct (33.54)\n",
      "\n",
      "Epoch 3, loss = 0.2178\n",
      "Got 277 / 799 correct (34.67)\n",
      "\n",
      "Epoch 4, loss = 0.1605\n",
      "Got 624 / 799 correct (78.10)\n",
      "\n",
      "Epoch 5, loss = 0.2697\n",
      "Got 621 / 799 correct (77.72)\n",
      "\n",
      "Epoch 6, loss = 0.0903\n",
      "Got 609 / 799 correct (76.22)\n",
      "\n",
      "Epoch 7, loss = 0.3177\n",
      "Got 632 / 799 correct (79.10)\n",
      "\n",
      "Epoch 8, loss = 0.2253\n",
      "Got 631 / 799 correct (78.97)\n",
      "\n",
      "Epoch 9, loss = 0.6731\n",
      "Got 628 / 799 correct (78.60)\n",
      "\n",
      "Epoch 10, loss = 0.1395\n",
      "Got 628 / 799 correct (78.60)\n",
      "\n",
      "Epoch 11, loss = 0.0469\n",
      "Got 617 / 799 correct (77.22)\n",
      "\n",
      "Epoch 12, loss = 0.2485\n",
      "Got 613 / 799 correct (76.72)\n",
      "\n",
      "Epoch 13, loss = 0.0617\n",
      "Got 599 / 799 correct (74.97)\n",
      "\n",
      "Epoch 14, loss = 0.0508\n",
      "Got 627 / 799 correct (78.47)\n",
      "\n"
     ]
    },
    {
     "name": "stderr",
     "output_type": "stream",
     "text": [
      "/home/sheikh/miniconda3/envs/cnn/lib/python3.8/site-packages/torchvision/models/_utils.py:208: UserWarning: The parameter 'pretrained' is deprecated since 0.13 and will be removed in 0.15, please use 'weights' instead.\n",
      "  warnings.warn(\n",
      "/home/sheikh/miniconda3/envs/cnn/lib/python3.8/site-packages/torchvision/models/_utils.py:223: UserWarning: Arguments other than a weight enum or `None` for 'weights' are deprecated since 0.13 and will be removed in 0.15. The current behavior is equivalent to passing `weights=ResNet50_Weights.IMAGENET1K_V1`. You can also use `weights=ResNet50_Weights.DEFAULT` to get the most up-to-date weights.\n",
      "  warnings.warn(msg)\n"
     ]
    },
    {
     "name": "stdout",
     "output_type": "stream",
     "text": [
      "Epoch 0, loss = 0.4370\n",
      "Got 670 / 799 correct (83.85)\n",
      "\n",
      "Epoch 1, loss = 0.4608\n",
      "Got 570 / 799 correct (71.34)\n",
      "\n",
      "Epoch 2, loss = 0.2512\n",
      "Got 661 / 799 correct (82.73)\n",
      "\n",
      "Epoch 3, loss = 0.0351\n",
      "Got 679 / 799 correct (84.98)\n",
      "\n",
      "Epoch 4, loss = 0.4963\n",
      "Got 683 / 799 correct (85.48)\n",
      "\n",
      "Epoch 5, loss = 0.0434\n",
      "Got 668 / 799 correct (83.60)\n",
      "\n",
      "Epoch 6, loss = 0.0840\n",
      "Got 689 / 799 correct (86.23)\n",
      "\n",
      "Epoch 7, loss = 0.0281\n",
      "Got 652 / 799 correct (81.60)\n",
      "\n",
      "Epoch 8, loss = 0.4798\n",
      "Got 628 / 799 correct (78.60)\n",
      "\n",
      "Epoch 9, loss = 0.0341\n",
      "Got 608 / 799 correct (76.10)\n",
      "\n",
      "Epoch 10, loss = 0.0732\n",
      "Got 644 / 799 correct (80.60)\n",
      "\n",
      "Epoch 11, loss = 0.0202\n",
      "Got 662 / 799 correct (82.85)\n",
      "\n",
      "Epoch 12, loss = 0.0046\n",
      "Got 680 / 799 correct (85.11)\n",
      "\n",
      "Epoch 13, loss = 0.0048\n",
      "Got 699 / 799 correct (87.48)\n",
      "\n",
      "Epoch 14, loss = 0.1583\n",
      "Got 702 / 799 correct (87.86)\n",
      "\n"
     ]
    }
   ],
   "source": [
    "\n",
    "for lr in lrs:\n",
    "    wb_targetloader = DataLoader(target_dataset, batch_size=64, shuffle=True)\n",
    "    wb_target_valloader = DataLoader(target_val, batch_size=64, shuffle=True)\n",
    "\n",
    "    device = torch.device('cuda:7' if torch.cuda.is_available() else 'cpu')\n",
    "\n",
    "    model = models.resnet50(pretrained=True)\n",
    "    model.fc = nn.Linear(2048, 2)\n",
    "\n",
    "    model.load_state_dict(torch.load(\"model_states/model_40.pth\"))\n",
    "\n",
    "    optimizer = torch.optim.Adam(model.parameters(), lr=lr, weight_decay=0.0001) # change the optimizer to tune different layers\n",
    "\n",
    "\n",
    "    acc = train_waterbirds(model, wb_targetloader, wb_target_valloader, optimizer, scheduler=None, device=device, epochs=15)\n",
    "\n",
    "    # adding results to dataframe \n",
    "    dict = {}\n",
    "    dict['accuracy'] = acc\n",
    "    dict['lr'] = lr\n",
    "    dict['state'] = \"all\"\n",
    "    dict['n_subset'] = 400\n",
    "    df_temp = pd.DataFrame(dict, index=[0])\n",
    "    df = pd.concat([df, df_temp]) \n",
    "\n"
   ]
  },
  {
   "cell_type": "code",
   "execution_count": null,
   "metadata": {},
   "outputs": [],
   "source": [
    "df.to_csv(\"waterbirdtuneall.csv\")"
   ]
  },
  {
   "cell_type": "code",
   "execution_count": null,
   "metadata": {},
   "outputs": [],
   "source": []
  }
 ],
 "metadata": {
  "kernelspec": {
   "display_name": "Python 3.8.15 ('pytorch_m1')",
   "language": "python",
   "name": "python3"
  },
  "language_info": {
   "codemirror_mode": {
    "name": "ipython",
    "version": 3
   },
   "file_extension": ".py",
   "mimetype": "text/x-python",
   "name": "python",
   "nbconvert_exporter": "python",
   "pygments_lexer": "ipython3",
   "version": "3.8.15"
  },
  "orig_nbformat": 4,
  "vscode": {
   "interpreter": {
    "hash": "be375b19548401d9264c26e1cb16ccfdbed2c1020c05f692b19335077b4aa958"
   }
  }
 },
 "nbformat": 4,
 "nbformat_minor": 2
}
